{
  "nbformat": 4,
  "nbformat_minor": 0,
  "metadata": {
    "colab": {
      "name": "lstm.ipynb",
      "provenance": [],
      "collapsed_sections": []
    },
    "kernelspec": {
      "name": "python3",
      "display_name": "Python 3"
    }
  },
  "cells": [
    {
      "cell_type": "code",
      "metadata": {
        "id": "M0ADFfODOy-2"
      },
      "source": [
        "!git clone https://github.com/giaanthunder/lstm_prediction\n",
        "%cd lstm_prediction\n",
        "\n",
        "!pip install tensorflow\n",
        "!pip install scikit-learn\n",
        "!pip install matplotlib"
      ],
      "execution_count": null,
      "outputs": []
    },
    {
      "cell_type": "code",
      "metadata": {
        "id": "C59DPaogQgjy"
      },
      "source": [
        "import json\n",
        "import os, sys, math, time\n",
        "\n",
        "import numpy as np\n",
        "from tensorflow.keras.layers import LSTM, Dense, Dropout, TimeDistributed\n",
        "from tensorflow.keras.models import Sequential\n",
        "\n",
        "from lstm import *\n",
        "\n",
        "import matplotlib.pyplot as plt\n",
        "%matplotlib inline\n",
        "\n",
        "\n",
        "\n",
        "\n",
        "hist_dir = 'price_history/'\n",
        "hist_paths = []\n",
        "for path in os.listdir(hist_dir):\n",
        "    hist_paths.append(hist_dir+path)\n",
        "hist_paths.sort()\n",
        "\n",
        "\n",
        "c_lst = []\n",
        "for path in hist_paths:\n",
        "    with open(path) as file:\n",
        "        data = json.load(file)\n",
        "    c_lst += data['c']\n",
        "\n",
        "\n",
        "# load and reshape data\n",
        "X, y, data = extract_data(np.array(c_lst))\n",
        "X, y, data = shape_data(X, y, data, timesteps=10)\n",
        "\n",
        "\n",
        "p = 180\n",
        "X_test = X[-p:]\n",
        "y_test = y[-p:]\n",
        "data_test = data[-p:] \n",
        "\n",
        "# ensure equal number of labels, shuffle, and split\n",
        "X_train, X_val, y_train, y_val = adjust_data(X[:-p], y[:-p])\n",
        "\n",
        "# binary encode for softmax function\n",
        "y_train = to_categorical(y_train, 2)\n",
        "y_val   = to_categorical(y_val, 2)\n",
        "# y_test  = to_categorical(y_test, 2)\n",
        "\n",
        "X_train = tf.convert_to_tensor(X_train)\n",
        "y_train = tf.convert_to_tensor(y_train)\n",
        "X_val   = tf.convert_to_tensor(X_val  )\n",
        "y_val   = tf.convert_to_tensor(y_val  )\n",
        "X_test  = tf.convert_to_tensor(X_test )\n",
        "y_test  = tf.convert_to_tensor(y_test )\n",
        "\n",
        "\n",
        "print(X_train.shape)\n",
        "print(y_train.shape)\n",
        "print(X_val  .shape)\n",
        "print(y_val  .shape)\n",
        "print(X_test .shape)\n",
        "print(y_test .shape)\n",
        "\n",
        "\n",
        "\n"
      ],
      "execution_count": null,
      "outputs": []
    },
    {
      "cell_type": "code",
      "metadata": {
        "id": "vdXvOGz-SAlY"
      },
      "source": [
        "print('Training phase')\n",
        "# build and train model\n",
        "model = build_model(X)\n",
        "model.fit(X_train, y_train, epochs=10, batch_size=8, shuffle=True, validation_data=(X_val, y_val))\n",
        "model.save('lstm_model')"
      ],
      "execution_count": null,
      "outputs": []
    },
    {
      "cell_type": "code",
      "metadata": {
        "id": "YLSgUDI8SFyj"
      },
      "source": [
        "print('Testing phase')\n",
        "min_model = tf.keras.models.load_model(\"lstm_model\")\n",
        "\n",
        "y_pred = []\n",
        "annos  = []\n",
        "cnt = 0\n",
        "for i in range(X_test.shape[0]):\n",
        "    y = min_model(X_test[i:i+1])[0].numpy()\n",
        "    label = np.argmax(y)\n",
        "    y_pred.append(label)\n",
        "    # score = '%.2f'%(y[label])\n",
        "    # annos.append(score)\n",
        "    # y_true = str(y_test[i].numpy())\n",
        "    # annos.append(y_true)\n",
        "    if y_test[i] == 1:\n",
        "        annos.append(\"U\")\n",
        "    else:\n",
        "        annos.append(\"D\")\n",
        "    if y_test[i] == label:\n",
        "        cnt += 1\n",
        "\n",
        "acc = cnt/y_test.shape[0]\n",
        "print('Test accuracy: %d%%'%(int(acc*100)))\n",
        "\n",
        "hull20 = mean_hull(data_test,20)\n",
        "plt.plot(hull20,color='darkviolet')\n",
        "plt.plot(data_test,color='b')\n",
        "for i in range(len(y_pred)):\n",
        "    if y_pred[i] == 1:\n",
        "        color = 'g'\n",
        "    else:\n",
        "        color = 'r'\n",
        "    plt.plot(i,hull20[i],color=color, marker='.')\n",
        "    # plt.annotate(annos[i], (i,data_test[i],), xytext=(0,5), \n",
        "    #     textcoords=\"offset points\", ha='center')\n",
        "plt.show()"
      ],
      "execution_count": null,
      "outputs": []
    }
  ]
}